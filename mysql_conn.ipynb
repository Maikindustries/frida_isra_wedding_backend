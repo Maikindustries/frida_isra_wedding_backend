{
 "cells": [
  {
   "cell_type": "code",
   "execution_count": 1,
   "metadata": {},
   "outputs": [],
   "source": [
    "import mysql.connector"
   ]
  },
  {
   "cell_type": "markdown",
   "metadata": {},
   "source": [
    "Data"
   ]
  },
  {
   "cell_type": "code",
   "execution_count": null,
   "metadata": {},
   "outputs": [],
   "source": [
    "\"\"\"\n",
    "nombre: invitados-mysql\n",
    "admin\n",
    "Webding1233\n",
    "\n",
    "invitados-mysql-vpc\n",
    "\"\"\"\n",
    "\n",
    "# Replace these values with your own RDS MySQL database details\n",
    "# db_host = \"invitados-mysql.cr3wtgo5ts9k.us-east-1.rds.amazonaws.com\"\n",
    "# db_username = \"admin\"\n",
    "# db_password = \"Webding1233\"\n",
    "# db_name = \"invitados\""
   ]
  },
  {
   "cell_type": "markdown",
   "metadata": {},
   "source": [
    "Connection and cursor"
   ]
  },
  {
   "cell_type": "code",
   "execution_count": 15,
   "metadata": {},
   "outputs": [],
   "source": [
    "class ConnectionFactory:\n",
    "  def get_connection(self,\n",
    "               db_host=\"invitados-mysql.cr3wtgo5ts9k.us-east-1.rds.amazonaws.com\",\n",
    "               db_username=\"admin\",\n",
    "               db_password=\"Webding1233\",\n",
    "               db_name=\"invitados\"):\n",
    "    self.conn = mysql.connector.connect(\n",
    "      host=db_host, user=db_username, password=db_password, database=db_name\n",
    "    )\n",
    "    self.cursor = self.conn.cursor()\n",
    "    return self.conn, self.cursor\n",
    "\n",
    "conn_factory = ConnectionFactory()\n",
    "\n",
    "conn, cursor = conn_factory.get_connection()"
   ]
  },
  {
   "cell_type": "markdown",
   "metadata": {},
   "source": [
    "Create table"
   ]
  },
  {
   "cell_type": "code",
   "execution_count": null,
   "metadata": {},
   "outputs": [],
   "source": [
    "# create_table_query = \"\"\"\n",
    "#     CREATE TABLE IF NOT EXISTS invitados (\n",
    "#         id varchar(255) not null primary key,\n",
    "#         name VARCHAR(255) not null,\n",
    "#         mesa INTEGER,\n",
    "#         boletos INTEGER not null,\n",
    "#         asistencia boolean default null\n",
    "#     )\n",
    "# \"\"\"\n",
    "# cursor.execute(create_table_query)"
   ]
  },
  {
   "cell_type": "markdown",
   "metadata": {},
   "source": [
    "Insert value"
   ]
  },
  {
   "cell_type": "code",
   "execution_count": null,
   "metadata": {},
   "outputs": [],
   "source": [
    "# cursor.execute(\"insert into invitados values ('poenfe', 'Veronica', 9, 6, false)\")"
   ]
  },
  {
   "cell_type": "markdown",
   "metadata": {},
   "source": [
    "Select all"
   ]
  },
  {
   "cell_type": "code",
   "execution_count": 6,
   "metadata": {},
   "outputs": [
    {
     "data": {
      "text/plain": [
       "[('ee7628c856ad11ee808012eee64034bd',\n",
       "  'Isabel Arellano',\n",
       "  0,\n",
       "  2,\n",
       "  'no confirmada',\n",
       "  'no revisada'),\n",
       " ('ee80721156ad11ee808012eee64034bd',\n",
       "  'Arturo Fernandez',\n",
       "  4,\n",
       "  4,\n",
       "  'no confirmada',\n",
       "  'no revisada'),\n",
       " ('ee8ab6e256ad11ee808012eee64034bd',\n",
       "  'Lauro Ramirez',\n",
       "  0,\n",
       "  1,\n",
       "  'no confirmada',\n",
       "  'no revisada')]"
      ]
     },
     "execution_count": 6,
     "metadata": {},
     "output_type": "execute_result"
    }
   ],
   "source": [
    "cursor.execute(\"select * from invitados\")\n",
    "res = cursor.fetchall()\n",
    "res"
   ]
  },
  {
   "cell_type": "markdown",
   "metadata": {},
   "source": [
    "Close"
   ]
  },
  {
   "cell_type": "code",
   "execution_count": null,
   "metadata": {},
   "outputs": [],
   "source": [
    "# cursor.close()\n",
    "# connection.close()"
   ]
  },
  {
   "cell_type": "code",
   "execution_count": null,
   "metadata": {},
   "outputs": [],
   "source": [
    "cursor.execute(\"SELECT UUID() from dual\")\n",
    "cursor.fetchall()"
   ]
  },
  {
   "cell_type": "code",
   "execution_count": null,
   "metadata": {},
   "outputs": [],
   "source": [
    "from uuid import uuid4\n",
    "import pandas as pd\n",
    "invitados = pd.read_excel(\"invitados.xlsx\", header=None)\n",
    "for i in invitados:\n",
    "  nombre, boletos, mesa = list(invitados.iloc[i])\n",
    "  cursor.execute(\"\"\"insert into INVITADOS (id_invitado, nombre, boletos, mesa) values(REPLACE(UUID(),'-',''), %s, %s, %s)\"\"\", [nombre, int(boletos), int(mesa)])"
   ]
  },
  {
   "cell_type": "code",
   "execution_count": 16,
   "metadata": {},
   "outputs": [],
   "source": [
    "cursor.execute(\"truncate invitados\")\n",
    "conn.commit()"
   ]
  },
  {
   "cell_type": "code",
   "execution_count": null,
   "metadata": {},
   "outputs": [],
   "source": []
  }
 ],
 "metadata": {
  "kernelspec": {
   "display_name": "Python 3",
   "language": "python",
   "name": "python3"
  },
  "language_info": {
   "codemirror_mode": {
    "name": "ipython",
    "version": 3
   },
   "file_extension": ".py",
   "mimetype": "text/x-python",
   "name": "python",
   "nbconvert_exporter": "python",
   "pygments_lexer": "ipython3",
   "version": "3.10.0"
  },
  "orig_nbformat": 4
 },
 "nbformat": 4,
 "nbformat_minor": 2
}
